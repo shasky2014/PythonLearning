{
 "cells": [
  {
   "cell_type": "code",
   "execution_count": 1,
   "metadata": {},
   "outputs": [
    {
     "name": "stdout",
     "output_type": "stream",
     "text": [
      "\n",
      "<sysmsg type=\"sysmsgtemplate\">\n",
      "\t<sysmsgtemplate>\n",
      "\t\t<content_template type=\"tmpl_type_profile\">\n",
      "\t\t\t<plain><![CDATA[]]></plain>\n",
      "\t\t\t<template><![CDATA[\"$username$\"邀请\"$names$\"加入了群聊]]></template>\n",
      "\t\t\t<link_list>\n",
      "\t\t\t\t<link name=\"username\" type=\"link_profile\">\n",
      "\t\t\t\t\t<memberlist>\n",
      "\t\t\t\t\t\t<member>\n",
      "\t\t\t\t\t\t\t<username><![CDATA[wxid_gzmpuoifs29u22]]></username>\n",
      "\t\t\t\t\t\t\t<nickname><![CDATA[桃宝nunu]]></nickname>\n",
      "\t\t\t\t\t\t</member>\n",
      "\t\t\t\t\t</memberlist>\n",
      "\t\t\t\t</link>\n",
      "\t\t\t\t<link name=\"names\" type=\"link_profile\">\n",
      "\t\t\t\t\t<memberlist>\n",
      "\t\t\t\t\t\t<member>\n",
      "\t\t\t\t\t\t\t<username><![CDATA[wxid_6qoxw7o6313y22]]></username>\n",
      "\t\t\t\t\t\t\t<nickname><![CDATA[筑痞]]></nickname>\n",
      "\t\t\t\t\t\t</member>\n",
      "\t\t\t\t\t\t<member>\n",
      "\t\t\t\t\t\t\t<username><![CDATA[wxid_xijrx3z32pgs22]]></username>\n",
      "\t\t\t\t\t\t\t<nickname><![CDATA[lynn]]></nickname>\n",
      "\t\t\t\t\t\t</member>\n",
      "\t\t\t\t\t</memberlist>\n",
      "\t\t\t\t\t<separator><![CDATA[、]]></separator>\n",
      "\t\t\t\t</link>\n",
      "\t\t\t</link_list>\n",
      "\t\t</content_template>\n",
      "\t</sysmsgtemplate>\n",
      "</sysmsg>\n",
      "\n"
     ]
    }
   ],
   "source": [
    "s1='''\n",
    "<sysmsg type=\"sysmsgtemplate\">\n",
    "\t<sysmsgtemplate>\n",
    "\t\t<content_template type=\"tmpl_type_profile\">\n",
    "\t\t\t<plain><![CDATA[]]></plain>\n",
    "\t\t\t<template><![CDATA[\"$username$\"邀请\"$names$\"加入了群聊]]></template>\n",
    "\t\t\t<link_list>\n",
    "\t\t\t\t<link name=\"username\" type=\"link_profile\">\n",
    "\t\t\t\t\t<memberlist>\n",
    "\t\t\t\t\t\t<member>\n",
    "\t\t\t\t\t\t\t<username><![CDATA[wxid_gzmpuoifs29u22]]></username>\n",
    "\t\t\t\t\t\t\t<nickname><![CDATA[桃宝nunu]]></nickname>\n",
    "\t\t\t\t\t\t</member>\n",
    "\t\t\t\t\t</memberlist>\n",
    "\t\t\t\t</link>\n",
    "\t\t\t\t<link name=\"names\" type=\"link_profile\">\n",
    "\t\t\t\t\t<memberlist>\n",
    "\t\t\t\t\t\t<member>\n",
    "\t\t\t\t\t\t\t<username><![CDATA[wxid_6qoxw7o6313y22]]></username>\n",
    "\t\t\t\t\t\t\t<nickname><![CDATA[筑痞]]></nickname>\n",
    "\t\t\t\t\t\t</member>\n",
    "\t\t\t\t\t\t<member>\n",
    "\t\t\t\t\t\t\t<username><![CDATA[wxid_xijrx3z32pgs22]]></username>\n",
    "\t\t\t\t\t\t\t<nickname><![CDATA[lynn]]></nickname>\n",
    "\t\t\t\t\t\t</member>\n",
    "\t\t\t\t\t</memberlist>\n",
    "\t\t\t\t\t<separator><![CDATA[、]]></separator>\n",
    "\t\t\t\t</link>\n",
    "\t\t\t</link_list>\n",
    "\t\t</content_template>\n",
    "\t</sysmsgtemplate>\n",
    "</sysmsg>\n",
    "'''\n",
    "print(s1)"
   ]
  },
  {
   "cell_type": "code",
   "execution_count": 16,
   "metadata": {},
   "outputs": [],
   "source": [
    "# !pip3 install beautifulsoup4\n",
    "from bs4 import BeautifulSoup\n",
    "bs_s1 = BeautifulSoup(s1)\n",
    "# print(bs_s1)"
   ]
  },
  {
   "cell_type": "code",
   "execution_count": 15,
   "metadata": {},
   "outputs": [
    {
     "name": "stdout",
     "output_type": "stream",
     "text": [
      "['sysmsg', 'sysmsgtemplate', 'content_template', 'plain', 'template', 'link_list', 'link', 'memberlist', 'member', 'username', 'nickname', 'link', 'memberlist', 'member', 'username', 'nickname', 'member', 'username', 'nickname', 'separator']\n",
      "<sysmsg[ a-z_]*>(.*?)</sysmsg> []\n",
      "<sysmsgtemplate[ a-z_]*>(.*?)</sysmsgtemplate> []\n",
      "<content_template[ a-z_]*>(.*?)</content_template> []\n",
      "<plain[ a-z_]*>(.*?)</plain> ['<![CDATA[]]>']\n",
      "<template[ a-z_]*>(.*?)</template> ['<![CDATA[\"$username$\"邀请\"$names$\"加入了群聊]]>']\n",
      "<link_list[ a-z_]*>(.*?)</link_list> []\n",
      "<link[ a-z_]*>(.*?)</link> []\n",
      "<memberlist[ a-z_]*>(.*?)</memberlist> []\n",
      "<member[ a-z_]*>(.*?)</member> []\n",
      "<username[ a-z_]*>(.*?)</username> ['<![CDATA[wxid_gzmpuoifs29u22]]>', '<![CDATA[wxid_6qoxw7o6313y22]]>', '<![CDATA[wxid_xijrx3z32pgs22]]>']\n",
      "<nickname[ a-z_]*>(.*?)</nickname> ['<![CDATA[桃宝nunu]]>', '<![CDATA[筑痞]]>', '<![CDATA[lynn]]>']\n",
      "<link[ a-z_]*>(.*?)</link> []\n",
      "<memberlist[ a-z_]*>(.*?)</memberlist> []\n",
      "<member[ a-z_]*>(.*?)</member> []\n",
      "<username[ a-z_]*>(.*?)</username> ['<![CDATA[wxid_gzmpuoifs29u22]]>', '<![CDATA[wxid_6qoxw7o6313y22]]>', '<![CDATA[wxid_xijrx3z32pgs22]]>']\n",
      "<nickname[ a-z_]*>(.*?)</nickname> ['<![CDATA[桃宝nunu]]>', '<![CDATA[筑痞]]>', '<![CDATA[lynn]]>']\n",
      "<member[ a-z_]*>(.*?)</member> []\n",
      "<username[ a-z_]*>(.*?)</username> ['<![CDATA[wxid_gzmpuoifs29u22]]>', '<![CDATA[wxid_6qoxw7o6313y22]]>', '<![CDATA[wxid_xijrx3z32pgs22]]>']\n",
      "<nickname[ a-z_]*>(.*?)</nickname> ['<![CDATA[桃宝nunu]]>', '<![CDATA[筑痞]]>', '<![CDATA[lynn]]>']\n",
      "<separator[ a-z_]*>(.*?)</separator> ['<![CDATA[、]]>']\n",
      "{'sysmsg': [], 'sysmsgtemplate': [], 'content_template': [], 'plain': ['<![CDATA[]]>'], 'template': ['<![CDATA[\"$username$\"邀请\"$names$\"加入了群聊]]>'], 'link_list': [], 'link': [], 'memberlist': [], 'member': [], 'username': ['<![CDATA[wxid_gzmpuoifs29u22]]>', '<![CDATA[wxid_6qoxw7o6313y22]]>', '<![CDATA[wxid_xijrx3z32pgs22]]>'], 'nickname': ['<![CDATA[桃宝nunu]]>', '<![CDATA[筑痞]]>', '<![CDATA[lynn]]>'], 'separator': ['<![CDATA[、]]>']}\n"
     ]
    }
   ],
   "source": [
    "# print(s1.replace('\\t','').replace('\\n',''))\n",
    "\n",
    "\n",
    "import re\n",
    "matcher = re.findall('<([a-z_]+)',s1)\n",
    "if matcher :\n",
    "    print(matcher)\n",
    "\n",
    "out_s1 = {}\n",
    "for obj in matcher:\n",
    "    body_matcher_f='<{obj}[ a-z_]*>(.*?)</{obj}>'.format(obj=obj)\n",
    "    body_matcher = re.findall(body_matcher_f,s1)\n",
    "    print(body_matcher_f,body_matcher)\n",
    "    out_s1[obj]=body_matcher\n",
    "print(out_s1)"
   ]
  }
 ],
 "metadata": {
  "kernelspec": {
   "display_name": "Python 3",
   "language": "python",
   "name": "python3"
  },
  "language_info": {
   "codemirror_mode": {
    "name": "ipython",
    "version": 3
   },
   "file_extension": ".py",
   "mimetype": "text/x-python",
   "name": "python",
   "nbconvert_exporter": "python",
   "pygments_lexer": "ipython3",
   "version": "3.6.5"
  }
 },
 "nbformat": 4,
 "nbformat_minor": 2
}
