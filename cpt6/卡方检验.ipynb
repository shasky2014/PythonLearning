{
 "cells": [
  {
   "cell_type": "code",
   "execution_count": 11,
   "metadata": {},
   "outputs": [],
   "source": [
    "from scipy import stats"
   ]
  },
  {
   "cell_type": "code",
   "execution_count": 2,
   "metadata": {},
   "outputs": [],
   "source": [
    "a=[68.47, 58.70, 70.67, 75.00,\n",
    "    72.86, 60.44, 74.71, 68.60,\n",
    "    68.97,  68.00, 71.79,\n",
    "    78.43, 59.68, 68.09, 68.89,\n",
    "    56.32, 75.32, 62.50, 71.21,\n",
    "    70.83,  55.93, 63.64, 70.59,\n",
    "    72.62, 55.71, 76.09, 71.95,\n",
    "    81.36, 95.45, 61.76, 79.78]\n",
    "\n",
    "\n",
    "b=[41.67, 38.60, 41.86, 47.67, 38.69, 17.50, 25.00, \n",
    "    55.84, 48.48, 31.82, 53.49, 48.48, 45.10, 53.01, \n",
    "    34.82, 50.59, 13.16, 27.78, 49.43, 44.12, 48.15, \n",
    "    24.43, 42.42, 24.89, 32.71]"
   ]
  },
  {
   "cell_type": "code",
   "execution_count": 6,
   "metadata": {},
   "outputs": [
    {
     "name": "stdout",
     "output_type": "stream",
     "text": [
      "[68.47, 58.7, 70.67, 75.0, 72.86, 60.44, 74.71, 68.6, 68.97, 68.0, 71.79, 78.43, 59.68, 68.09, 68.89, 56.32, 75.32, 62.5, 71.21, 70.83, 55.93, 63.64, 70.59, 72.62, 55.71, 76.09, 71.95, 81.36, 95.45, 61.76, 79.78]\n",
      "[41.67, 38.6, 41.86, 47.67, 38.69, 17.5, 25.0, 55.84, 48.48, 31.82, 53.49, 48.48, 45.1, 53.01, 34.82, 50.59, 13.16, 27.78, 49.43, 44.12, 48.15, 24.43, 42.42, 24.89, 32.71]\n",
      "[0.6847, 0.5870000000000001, 0.7067, 0.75, 0.7286, 0.6043999999999999, 0.7471, 0.6859999999999999, 0.6897, 0.68, 0.7179000000000001, 0.7843000000000001, 0.5968, 0.6809000000000001, 0.6889, 0.5632, 0.7532, 0.625, 0.7121, 0.7082999999999999, 0.5593, 0.6364, 0.7059000000000001, 0.7262000000000001, 0.5571, 0.7609, 0.7195, 0.8136, 0.9545, 0.6175999999999999, 0.7978000000000001]\n",
      "[0.4167, 0.386, 0.41859999999999997, 0.4767, 0.38689999999999997, 0.175, 0.25, 0.5584, 0.48479999999999995, 0.3182, 0.5349, 0.48479999999999995, 0.451, 0.5301, 0.3482, 0.5059, 0.1316, 0.2778, 0.4943, 0.4412, 0.4815, 0.2443, 0.4242, 0.2489, 0.3271]\n"
     ]
    }
   ],
   "source": [
    "print(a)\n",
    "print(b)\n",
    "print([x/100 for x in a])\n",
    "print([x/100 for x in b])"
   ]
  },
  {
   "cell_type": "code",
   "execution_count": 12,
   "metadata": {},
   "outputs": [
    {
     "data": {
      "text/plain": [
       "Power_divergenceResult(statistic=31.180250097476748, pvalue=0.4065846471342489)"
      ]
     },
     "execution_count": 12,
     "metadata": {},
     "output_type": "execute_result"
    }
   ],
   "source": [
    "stats.chisquare(a)"
   ]
  },
  {
   "cell_type": "code",
   "execution_count": 13,
   "metadata": {},
   "outputs": [
    {
     "data": {
      "text/plain": [
       "Power_divergenceResult(statistic=85.05524430698878, pvalue=9.338368935871555e-09)"
      ]
     },
     "execution_count": 13,
     "metadata": {},
     "output_type": "execute_result"
    }
   ],
   "source": [
    "stats.chisquare(b)"
   ]
  },
  {
   "cell_type": "code",
   "execution_count": 14,
   "metadata": {},
   "outputs": [
    {
     "data": {
      "text/plain": [
       "Power_divergenceResult(statistic=0.3118025009747676, pvalue=1.0)"
      ]
     },
     "execution_count": 14,
     "metadata": {},
     "output_type": "execute_result"
    }
   ],
   "source": [
    "stats.chisquare([x/100 for x in a])"
   ]
  },
  {
   "cell_type": "code",
   "execution_count": 22,
   "metadata": {},
   "outputs": [
    {
     "data": {
      "text/plain": [
       "Power_divergenceResult(statistic=0.8505524430698881, pvalue=0.9999999999999506)"
      ]
     },
     "execution_count": 22,
     "metadata": {},
     "output_type": "execute_result"
    }
   ],
   "source": [
    "stats.chisquare([x/100 for x in b])"
   ]
  },
  {
   "cell_type": "code",
   "execution_count": 18,
   "metadata": {},
   "outputs": [
    {
     "data": {
      "text/plain": [
       "Power_divergenceResult(statistic=3.254094998197233, pvalue=1.0)"
      ]
     },
     "execution_count": 18,
     "metadata": {},
     "output_type": "execute_result"
    }
   ],
   "source": [
    "stats.chisquare([x/100 for x in b] + [x/100 for x in a])"
   ]
  },
  {
   "cell_type": "code",
   "execution_count": 19,
   "metadata": {},
   "outputs": [
    {
     "data": {
      "text/plain": [
       "Power_divergenceResult(statistic=325.40949981972324, pvalue=4.984703064780081e-40)"
      ]
     },
     "execution_count": 19,
     "metadata": {},
     "output_type": "execute_result"
    }
   ],
   "source": [
    "stats.chisquare(a+b)"
   ]
  }
 ],
 "metadata": {
  "kernelspec": {
   "display_name": "Python 3",
   "language": "python",
   "name": "python3"
  },
  "language_info": {
   "codemirror_mode": {
    "name": "ipython",
    "version": 3
   },
   "file_extension": ".py",
   "mimetype": "text/x-python",
   "name": "python",
   "nbconvert_exporter": "python",
   "pygments_lexer": "ipython3",
   "version": "3.6.5"
  }
 },
 "nbformat": 4,
 "nbformat_minor": 2
}
